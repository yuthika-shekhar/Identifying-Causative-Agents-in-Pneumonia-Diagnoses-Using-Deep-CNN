{
  "metadata": {
    "kernelspec": {
      "language": "python",
      "display_name": "Python 3",
      "name": "python3"
    },
    "language_info": {
      "pygments_lexer": "ipython3",
      "nbconvert_exporter": "python",
      "version": "3.6.4",
      "file_extension": ".py",
      "codemirror_mode": {
        "name": "ipython",
        "version": 3
      },
      "name": "python",
      "mimetype": "text/x-python"
    },
    "colab": {
      "name": "resnetscratch_laplacian.ipynb",
      "provenance": [],
      "collapsed_sections": [],
      "machine_shape": "hm"
    },
    "accelerator": "GPU"
  },
  "nbformat_minor": 0,
  "nbformat": 4,
  "cells": [
    {
      "cell_type": "code",
      "source": [
        "!pip install visualkeras"
      ],
      "metadata": {
        "trusted": true,
        "id": "s1SZIZ8mi31-"
      },
      "execution_count": null,
      "outputs": []
    },
    {
      "cell_type": "code",
      "source": [
        "print(tf.__version__)"
      ],
      "metadata": {
        "execution": {
          "iopub.status.busy": "2022-04-11T01:50:44.743691Z",
          "iopub.execute_input": "2022-04-11T01:50:44.743945Z",
          "iopub.status.idle": "2022-04-11T01:50:44.752950Z",
          "shell.execute_reply.started": "2022-04-11T01:50:44.743916Z",
          "shell.execute_reply": "2022-04-11T01:50:44.751943Z"
        },
        "trusted": true,
        "id": "r_RDPZHUi32A"
      },
      "execution_count": null,
      "outputs": []
    },
    {
      "cell_type": "code",
      "source": [
        "from tensorflow.keras.applications import ResNet152V2\n",
        "from tensorflow.keras.preprocessing import image\n",
        "from tensorflow.keras.models import Model, Sequential\n",
        "from tensorflow.keras.layers import Dense, GlobalAveragePooling2D, Conv2D, MaxPooling2D\n",
        "from keras.preprocessing.image import ImageDataGenerator\n",
        "\n",
        "import tensorflow as tf\n",
        "import numpy as np\n",
        "\n",
        "import matplotlib.pyplot as plt\n",
        "\n",
        "from sklearn.metrics import multilabel_confusion_matrix, classification_report\n",
        "\n",
        "import zipfile\n",
        "\n",
        "from sklearn.utils import class_weight"
      ],
      "metadata": {
        "id": "Iy6NXVkadTPn",
        "execution": {
          "iopub.status.busy": "2022-04-11T01:50:40.397195Z",
          "iopub.execute_input": "2022-04-11T01:50:40.397761Z",
          "iopub.status.idle": "2022-04-11T01:50:43.410425Z",
          "shell.execute_reply.started": "2022-04-11T01:50:40.397720Z",
          "shell.execute_reply": "2022-04-11T01:50:43.409585Z"
        },
        "trusted": true
      },
      "execution_count": null,
      "outputs": []
    },
    {
      "cell_type": "code",
      "source": [
        "with zipfile.ZipFile(\"images_laplacian.zip\",\"r\") as zip_ref:\n",
        "    zip_ref.extractall(\"\")"
      ],
      "metadata": {
        "id": "nHTmnMrni96G"
      },
      "execution_count": null,
      "outputs": []
    },
    {
      "cell_type": "markdown",
      "source": [
        "## Load data"
      ],
      "metadata": {
        "id": "U0iAB1SddoHi"
      }
    },
    {
      "cell_type": "code",
      "source": [
        "batch_size = 32\n",
        "img_height = 299\n",
        "img_width = 299"
      ],
      "metadata": {
        "id": "oUNNmqH6dgZJ",
        "execution": {
          "iopub.status.busy": "2022-04-11T01:53:31.197250Z",
          "iopub.execute_input": "2022-04-11T01:53:31.197999Z",
          "iopub.status.idle": "2022-04-11T01:53:31.201417Z",
          "shell.execute_reply.started": "2022-04-11T01:53:31.197961Z",
          "shell.execute_reply": "2022-04-11T01:53:31.200686Z"
        },
        "trusted": true
      },
      "execution_count": null,
      "outputs": []
    },
    {
      "cell_type": "markdown",
      "source": [
        "## Create base Xception model"
      ],
      "metadata": {
        "id": "gAbuYHsldu6k"
      }
    },
    {
      "cell_type": "code",
      "source": [
        "def vgg_block(layer_in, n_filters, n_conv):\n",
        "    # add convolutional layers\n",
        "    for _ in range(n_conv):\n",
        "        layer_in = Conv2D(n_filters, (3,3), padding='same', activation='relu')(layer_in)\n",
        "    # add max pooling layer\n",
        "    layer_in = MaxPooling2D((2,2), strides=(2,2))(layer_in)\n",
        "    return layer_in"
      ],
      "metadata": {
        "id": "tK_PkK-0LQM6",
        "execution": {
          "iopub.status.busy": "2022-04-11T01:53:34.279038Z",
          "iopub.execute_input": "2022-04-11T01:53:34.279307Z",
          "iopub.status.idle": "2022-04-11T01:53:34.284331Z",
          "shell.execute_reply.started": "2022-04-11T01:53:34.279277Z",
          "shell.execute_reply": "2022-04-11T01:53:34.283503Z"
        },
        "trusted": true
      },
      "execution_count": null,
      "outputs": []
    },
    {
      "cell_type": "code",
      "source": [
        "# create the base pre-trained model\n",
        "base_model = ResNet152V2(weights='imagenet', include_top=False)\n",
        "\n",
        "# add a global spatial average pooling layer\n",
        "x = base_model.output\n",
        "x = vgg_block(x, 64, 2)\n",
        "x = GlobalAveragePooling2D()(x)\n",
        "\n",
        "# let's add a fully-connected layer\n",
        "x = Dense(1024, activation='relu')(x)\n",
        "\n",
        "# and a logistic layer -- let's say we have 3 classes\n",
        "predictions = Dense(3, activation='softmax')(x)\n",
        "\n",
        "# this is the model we will train\n",
        "model = Model(inputs=base_model.input, outputs=predictions)"
      ],
      "metadata": {
        "id": "u7IFRspsdr9z",
        "execution": {
          "iopub.status.busy": "2022-04-11T01:53:36.833894Z",
          "iopub.execute_input": "2022-04-11T01:53:36.834453Z",
          "iopub.status.idle": "2022-04-11T01:53:38.452753Z",
          "shell.execute_reply.started": "2022-04-11T01:53:36.834412Z",
          "shell.execute_reply": "2022-04-11T01:53:38.452035Z"
        },
        "trusted": true
      },
      "execution_count": null,
      "outputs": []
    },
    {
      "cell_type": "code",
      "source": [
        "train_ds_pn = tf.keras.utils.image_dataset_from_directory(\n",
        "  \"images_laplacian\",\n",
        "  validation_split=0.2,\n",
        "  subset=\"training\",\n",
        "  seed=123,\n",
        "  image_size=(img_height, img_width),\n",
        "  batch_size=None)"
      ],
      "metadata": {
        "id": "PH9dcgpDdxiU",
        "execution": {
          "iopub.status.busy": "2022-04-11T01:54:25.038852Z",
          "iopub.execute_input": "2022-04-11T01:54:25.039143Z",
          "iopub.status.idle": "2022-04-11T01:54:26.274939Z",
          "shell.execute_reply.started": "2022-04-11T01:54:25.039110Z",
          "shell.execute_reply": "2022-04-11T01:54:26.274239Z"
        },
        "trusted": true
      },
      "execution_count": null,
      "outputs": []
    },
    {
      "cell_type": "code",
      "source": [
        "val_ds_pn = tf.keras.utils.image_dataset_from_directory(\n",
        "  \"images_laplacian\",\n",
        "  validation_split=0.2,\n",
        "  subset=\"validation\",\n",
        "  seed=123,\n",
        "  image_size=(img_height, img_width),\n",
        "  batch_size=None)"
      ],
      "metadata": {
        "id": "wpBbi-codzfq",
        "execution": {
          "iopub.status.busy": "2022-04-11T01:54:28.844859Z",
          "iopub.execute_input": "2022-04-11T01:54:28.845118Z",
          "iopub.status.idle": "2022-04-11T01:54:29.081066Z",
          "shell.execute_reply.started": "2022-04-11T01:54:28.845087Z",
          "shell.execute_reply": "2022-04-11T01:54:29.080370Z"
        },
        "trusted": true
      },
      "execution_count": null,
      "outputs": []
    },
    {
      "cell_type": "code",
      "source": [
        "train_x = []\n",
        "train_y = []\n",
        "\n",
        "for image, label in train_ds_pn:\n",
        "    train_x.append(image)\n",
        "    train_y.append(label)\n",
        "\n",
        "train_x = np.array(train_x)\n",
        "train_y = np.array(train_y)"
      ],
      "metadata": {
        "id": "e56JyhH7eTHg",
        "execution": {
          "iopub.status.busy": "2022-04-11T01:54:35.122217Z",
          "iopub.execute_input": "2022-04-11T01:54:35.122785Z",
          "iopub.status.idle": "2022-04-11T01:54:54.321426Z",
          "shell.execute_reply.started": "2022-04-11T01:54:35.122744Z",
          "shell.execute_reply": "2022-04-11T01:54:54.320575Z"
        },
        "trusted": true
      },
      "execution_count": null,
      "outputs": []
    },
    {
      "cell_type": "code",
      "source": [
        "val_x = []\n",
        "val_y = []\n",
        "\n",
        "for image, label in val_ds_pn:\n",
        "    val_x.append(image)\n",
        "    val_y.append(label)\n",
        "\n",
        "val_x = np.array(val_x)\n",
        "val_y = np.array(val_y)"
      ],
      "metadata": {
        "id": "7C_H1mz8eU26",
        "execution": {
          "iopub.status.busy": "2022-04-11T01:54:54.323202Z",
          "iopub.execute_input": "2022-04-11T01:54:54.323472Z",
          "iopub.status.idle": "2022-04-11T01:54:58.864419Z",
          "shell.execute_reply.started": "2022-04-11T01:54:54.323438Z",
          "shell.execute_reply": "2022-04-11T01:54:58.863609Z"
        },
        "trusted": true
      },
      "execution_count": null,
      "outputs": []
    },
    {
      "cell_type": "code",
      "source": [
        "train_x = tf.keras.applications.resnet_v2.preprocess_input(train_x)\n",
        "val_x = tf.keras.applications.resnet_v2.preprocess_input(val_x)"
      ],
      "metadata": {
        "id": "QtFMejqEeWsG",
        "execution": {
          "iopub.status.busy": "2022-04-11T01:56:07.777172Z",
          "iopub.execute_input": "2022-04-11T01:56:07.777723Z",
          "iopub.status.idle": "2022-04-11T01:56:09.071225Z",
          "shell.execute_reply.started": "2022-04-11T01:56:07.777683Z",
          "shell.execute_reply": "2022-04-11T01:56:09.070463Z"
        },
        "trusted": true
      },
      "execution_count": null,
      "outputs": []
    },
    {
      "cell_type": "code",
      "source": [
        "class_weights = class_weight.compute_class_weight(\n",
        "           class_weight='balanced',\n",
        "           classes=np.unique(train_y), \n",
        "           y=train_y)\n",
        "\n",
        "class_weights = {i:class_weights[i] for i in range(3)}"
      ],
      "metadata": {
        "id": "64m9esynRRLL"
      },
      "execution_count": null,
      "outputs": []
    },
    {
      "cell_type": "code",
      "source": [
        "model.compile(optimizer=tf.keras.optimizers.Adam(learning_rate=1e-05),\n",
        "              loss=tf.keras.losses.SparseCategoricalCrossentropy(from_logits=True),\n",
        "              metrics=['accuracy'])"
      ],
      "metadata": {
        "id": "6tin8a3beZGZ",
        "execution": {
          "iopub.status.busy": "2022-04-11T01:56:10.874216Z",
          "iopub.execute_input": "2022-04-11T01:56:10.874819Z",
          "iopub.status.idle": "2022-04-11T01:56:10.894258Z",
          "shell.execute_reply.started": "2022-04-11T01:56:10.874775Z",
          "shell.execute_reply": "2022-04-11T01:56:10.893595Z"
        },
        "trusted": true
      },
      "execution_count": null,
      "outputs": []
    },
    {
      "cell_type": "code",
      "source": [
        "# we train our model again (this time fine-tuning the top 2 inception blocks\n",
        "# alongside the top Dense layers\n",
        "datagen = ImageDataGenerator(width_shift_range=0.2, \n",
        "                             height_shift_range=0.2, \n",
        "                             horizontal_flip=True, \n",
        "                             shear_range=0.2, \n",
        "                             rotation_range=20, \n",
        "                             zoom_range=0.2, \n",
        "                             fill_mode='nearest')\n",
        "\n",
        "# prepare iterator\n",
        "it_train = datagen.flow(train_x, train_y, batch_size=16)\n",
        "\n",
        "# fit model\n",
        "steps = int(train_x.shape[0] / 16)\n",
        "hist = model.fit_generator(it_train, steps_per_epoch=steps, epochs=20, validation_data=(val_x, val_y), verbose=1, class_weight=class_weights)\n",
        "\n",
        "# evaluate model\n",
        "_, acc = model.evaluate(val_x, val_y, verbose=0)\n",
        "print('> %.3f' % (acc * 100.0))"
      ],
      "metadata": {
        "id": "e7EJ2XWSebAN",
        "execution": {
          "iopub.status.busy": "2022-04-11T01:56:35.753214Z",
          "iopub.execute_input": "2022-04-11T01:56:35.753820Z"
        },
        "trusted": true
      },
      "execution_count": null,
      "outputs": []
    },
    {
      "cell_type": "code",
      "source": [
        "# model.save('model_xception_scratch')"
      ],
      "metadata": {
        "id": "TCuL68zToO4s"
      },
      "execution_count": null,
      "outputs": []
    },
    {
      "cell_type": "code",
      "source": [
        "# import shutil\n",
        "# shutil.make_archive('model_xception_scratch', 'zip', 'model_xception_scratch')"
      ],
      "metadata": {
        "id": "-3xSePnBpKmp"
      },
      "execution_count": null,
      "outputs": []
    },
    {
      "cell_type": "code",
      "source": [
        "plt.style.use(\"classic\")\n",
        "plt.figure(figsize=(16, 9))\n",
        "plt.plot(hist.history['loss'], label=\"Train Loss\")\n",
        "plt.plot(hist.history['val_loss'], label=\"Valid Loss\")\n",
        "plt.legend()\n",
        "plt.xlabel(\"Epochs\")\n",
        "plt.ylabel(\"Loss\")\n",
        "plt.title(\"Loss over the Epochs (ResNet 152V2)\")\n",
        "plt.show()"
      ],
      "metadata": {
        "id": "SNPHi0E5SLYS"
      },
      "execution_count": null,
      "outputs": []
    },
    {
      "cell_type": "code",
      "source": [
        "plt.style.use(\"ggplot\")\n",
        "plt.figure(figsize=(16, 9))\n",
        "plt.plot(hist.history['accuracy'], label=\"Train Accuracy\")\n",
        "plt.plot(hist.history['val_accuracy'], label=\"Valid Accuracy\")\n",
        "plt.legend()\n",
        "plt.xlabel(\"Epochs\")\n",
        "plt.ylabel(\"Accuracy\")\n",
        "plt.title(\"Accuracy over the Epochs (ResNet 152V2)\")\n",
        "plt.show()"
      ],
      "metadata": {
        "id": "yrwosP36SM7o"
      },
      "execution_count": null,
      "outputs": []
    },
    {
      "cell_type": "markdown",
      "source": [
        "## Evaluate"
      ],
      "metadata": {
        "id": "GrYCyNViejV2"
      }
    },
    {
      "cell_type": "code",
      "source": [
        "y_pred = model.predict(val_x)\n",
        "y_pred_max = np.argmax(y_pred, axis=1)\n",
        "print(classification_report(val_y, y_pred_max))"
      ],
      "metadata": {
        "id": "QZvHnNxTedYH"
      },
      "execution_count": null,
      "outputs": []
    },
    {
      "cell_type": "code",
      "source": [
        "print(multilabel_confusion_matrix(val_y, y_pred_max))"
      ],
      "metadata": {
        "id": "rop_RUtKUj1C"
      },
      "execution_count": null,
      "outputs": []
    },
    {
      "cell_type": "code",
      "source": [
        "import pandas as pd\n",
        "pd.Series(val_y).value_counts()"
      ],
      "metadata": {
        "id": "Vh4mNfEjhnOI"
      },
      "execution_count": null,
      "outputs": []
    },
    {
      "cell_type": "code",
      "source": [
        "# weighted avg specificity\n",
        "(544 * (585/(585+42)) + 325 * (832/(832+14)) + 302 * (762/(762+107))) / (544+325+302)"
      ],
      "metadata": {
        "id": "XkyI5dqghxpH"
      },
      "execution_count": null,
      "outputs": []
    },
    {
      "cell_type": "code",
      "source": [
        "# plot diagnostic learning curves\n",
        "def summarize_diagnostics(history):\n",
        "    # plot loss\n",
        "    plt.figure(figsize=(12,8))\n",
        "    plt.subplot(211)\n",
        "    plt.title('Cross Entropy Loss')\n",
        "    plt.plot(history.history['loss'], color='blue', label='train')\n",
        "    plt.plot(history.history['val_loss'], color='orange', label='validation')\n",
        "    plt.legend()\n",
        "    \n",
        "    # plot accuracy\n",
        "    plt.subplot(212)\n",
        "    plt.title('Classification Accuracy')\n",
        "    plt.plot(history.history['accuracy'], color='blue', label='train')\n",
        "    plt.plot(history.history['val_accuracy'], color='orange', label='validation')\n",
        "    plt.legend()"
      ],
      "metadata": {
        "id": "8gscji1PoGsP"
      },
      "execution_count": null,
      "outputs": []
    },
    {
      "cell_type": "code",
      "source": [
        "summarize_diagnostics(history)"
      ],
      "metadata": {
        "id": "QcjiFX959B85"
      },
      "execution_count": null,
      "outputs": []
    }
  ]
}